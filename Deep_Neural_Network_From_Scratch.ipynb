{
 "cells": [
  {
   "cell_type": "markdown",
   "metadata": {},
   "source": [
    "## Importing Basic Libraries"
   ]
  },
  {
   "cell_type": "code",
   "execution_count": 1,
   "metadata": {},
   "outputs": [],
   "source": [
    "import numpy as np\n",
    "import pandas as pd\n",
    "import matplotlib\n",
    "import matplotlib.pyplot as plt\n",
    "import sklearn\n",
    "import sklearn.datasets\n",
    "from sklearn.model_selection import train_test_split\n",
    "from sklearn.metrics import accuracy_score, f1_score\n",
    "\n",
    "# Display plots inline and change default figure size\n",
    "%matplotlib inline"
   ]
  },
  {
   "cell_type": "markdown",
   "metadata": {},
   "source": [
    "## Task 1 : Neural Network Approach to Logistic Regression"
   ]
  },
  {
   "cell_type": "markdown",
   "metadata": {},
   "source": [
    "### Logistic Regression - breif discussion \n",
    "1. Logistic Regression despite of name, is mainly used for classification. Logistic regression calculates maximum likelihood of the target variable or negative logloss to classify it in one of the class using sigmoid function.<br>\n",
    "2. Logistic regression uses loss function to tune the model parameters such as weights and biases. The loss function is descrbed in the algorithm below.<br>\n",
    "3. Here in this task, we will develope a single layer neural network approach to logistic regression, which has input layer with nodes equal to number of features in dataset. There is only one node in output layer which gives out prediction or 'y_cap' of a class from inout feature vector.<br>\n",
    "4. The development of my algorithm is as follows -<br>\n",
    "    a. Initialize learning rate and number of iterations while instantiating the model or class. I have developed normal gradient descent, so there is no batching of samples.<br>\n",
    "    b. Define sigmoid function with given formulae.<br>\n",
    "    c. Define fit function to train your model, where you initially instantiate weight to an array of zeros which has size equal to number of input features by nodes in output layer. We initialize bias to 0, as there is only one layer, so 1 bias will work.<br>\n",
    "    d. Define and store loss in a list<br>\n",
    "    e. backpropogate and find the partial dervatives of weight and bias<br>\n",
    "    f. update weights and bias<br>\n",
    "5. The predict function is basically forward propogation, which will give out predicted value on test data<br>\n",
    "6. Store it and find accuracy on various datasets provided<br>\n",
    "\n",
    "### References for task 1 :\n",
    "1. Major reference is my submission of assignment 2 of machine learning, where i submitted the LR from scratch. Changes are done here accordingly for NN style implementation.<br>\n",
    "2. Slides and lectures by Prof. Michael Madden<br>\n",
    "3. https://medium.com/analytics-vidhya/logistic-regression-using-single-layer-perceptron-neural-network<br>\n",
    "4. https://www.datasciencecentral.com/logistic-regression-as-a-neural-network/<br>"
   ]
  },
  {
   "cell_type": "code",
   "execution_count": 2,
   "metadata": {},
   "outputs": [],
   "source": [
    "class LogRegression():\n",
    "    #Initializing hyperparameters of algorithm (LR and Number of Iterations)\n",
    "    def __init__(self, lRate, no_of_iterations):\n",
    "        self.lRate = lRate\n",
    "        self.no_of_iterations = no_of_iterations\n",
    "    \n",
    "    #Defining sigmoid function as an activation function\n",
    "    def sigmoid(self, X):\n",
    "        return 1/(1 + np.exp(-X))\n",
    "    \n",
    "    #Function to fit / train the module and adjust weights and bias with the help of Gradient descent\n",
    "    def fit(self, X, Y):\n",
    "        m = X.shape[1] #storing number of examples of data\n",
    "        n = X.shape[0] #storing number of features in dataset\n",
    "\n",
    "        W = np.zeros((n,1)) #Initializing weights to 0 for all features\n",
    "        B = 0  #declaring global bias as 0 as there is only 1 layer \n",
    "\n",
    "        loss_list = [] #List of costs per iteration\n",
    "\n",
    "        for i in range(self.no_of_iterations):\n",
    "            Z = np.dot(W.T, X) + B # Basic hypothesis\n",
    "            A = self.sigmoid(Z) # Defining activation function\n",
    "\n",
    "            # negative log loss calculation \n",
    "            loss = -(1/m)*np.sum( Y*np.log(A) + (1-Y)*np.log(1-A))\n",
    "\n",
    "            # Gradient Descent i.e. derivative of change in weights and bias from backpropagation\n",
    "            dW = (1/m)*np.dot(A-Y, X.T) #partial derivative of change in weight \n",
    "            dB = (1/m)*np.sum(A - Y) #partial derivative of change in bias \n",
    "\n",
    "            #updating weights and bias with backprop\n",
    "            W = W - self.lRate*dW.T \n",
    "            B = B - self.lRate*dB\n",
    "\n",
    "            # Keeping track of our loss function value\n",
    "            loss_list.append(loss) # storing costs per iteration\n",
    "\n",
    "            #prinitng the coast at every 1000th iteraion\n",
    "            if(i%(self.no_of_iterations/10) == 0):\n",
    "                print(\"loss after \", i, \"iteration is : \", loss)\n",
    "        plt.plot(loss_list)\n",
    "        plt.ylabel(\"Loss\")\n",
    "        plt.xlabel(\"Iterations\")\n",
    "        plt.title(\"Loss per Interation\")\n",
    "        plt.show()\n",
    "        \n",
    "        return W, B, loss_list      \n",
    "\n",
    "    #Prediction function to predict the new sample i.e forward prop\n",
    "    def predict(self, X, Y, W, B):\n",
    "       Z = np.dot(W.T, X) + B\n",
    "       y_pred = self.sigmoid(Z)\n",
    "       y_pred = np.where(y_pred > 0.5, 1, 0)\n",
    "       return y_pred\n"
   ]
  },
  {
   "cell_type": "markdown",
   "metadata": {},
   "source": [
    "## Task 2 : Runing the Logisitc Refression on given data"
   ]
  },
  {
   "cell_type": "markdown",
   "metadata": {},
   "source": [
    "### Results and obeservations on task 2 :\n",
    "1. The single layer logistic regression approach gives out great accuracy on blobs300 dataset, which is linearly separable. Accuracy is 100%.<br>\n",
    "2. I performed various experiments with many hyper parameteres but the ones which are reducing the loss and giving out best results have very low learning rate and large number of iterations.<br>\n",
    "3. The single layer logistic regression gives out around 40-50 percent accuracy on circles600 dataset which not linearly separable. Here as well, after multiple experiments on test data, the hyperparameters were set to low learning rate of 0.015 and high number of iterations i.e. 100000.<br>\n",
    "4. The dataset is read by the code given by Prof. Michael Madded in assignment 1, and is splitted in 70-15-15 fashion for train, test and validation respectively by using scikit learns train test split.<br>\n",
    "5. Further the dataframes are trasposed to the shape such as the vectors can be multiplied.<br>\n",
    "<br>\n",
    "### Refrences for task 2:<br>\n",
    "1. My assignment 2 of machine learning module last semester<br>\n",
    "2. Code provided by Prof. Michael Madded <br>\n",
    "3. Scikit learn documenttaion on train_test_split<br>"
   ]
  },
  {
   "cell_type": "markdown",
   "metadata": {},
   "source": [
    "### 1. Blob Dataset "
   ]
  },
  {
   "cell_type": "code",
   "execution_count": 3,
   "metadata": {},
   "outputs": [],
   "source": [
    "# Reading the Dataset with pandas - Blob datase\n",
    "df = pd.read_csv(\"E:\\College Wiki\\Deep Learning\\Assignment 1\\\\blobs300.csv\")\n",
    "#Storing labels in Y\n",
    "Y = df['Class'].values\n",
    "#Storing features in X by deleting 'Class; column\n",
    "del df['Class']\n",
    "#Storing features\n",
    "X = df.values "
   ]
  },
  {
   "cell_type": "code",
   "execution_count": 4,
   "metadata": {},
   "outputs": [
    {
     "data": {
      "text/plain": [
       "<matplotlib.collections.PathCollection at 0x2093404b6a0>"
      ]
     },
     "execution_count": 4,
     "metadata": {},
     "output_type": "execute_result"
    },
    {
     "data": {
      "image/png": "[encoded data removed]",
      "text/plain": [
       "<Figure size 432x288 with 1 Axes>"
      ]
     },
     "metadata": {
      "needs_background": "light"
     },
     "output_type": "display_data"
    }
   ],
   "source": [
    "#Plotting scatterplot\n",
    "plt.scatter(X[:,0], X[:,1], c=Y) "
   ]
  },
  {
   "cell_type": "code",
   "execution_count": 5,
   "metadata": {},
   "outputs": [],
   "source": [
    "#Splitting the dataset in train - test - validations dataset as 70 - 15 -1 5 percent respectively\n",
    "x_train, x_rem, y_train, y_rem = train_test_split(X, Y, train_size=0.7)\n",
    "x_val, x_test, y_val, y_test = train_test_split(x_rem, y_rem, test_size=0.5)"
   ]
  },
  {
   "cell_type": "code",
   "execution_count": 6,
   "metadata": {},
   "outputs": [],
   "source": [
    "#Reshaping the datasets with transpose for matrix multiplications during updating weights and activation functions \n",
    "x_train = x_train.T\n",
    "y_train = y_train.reshape(1, x_train.shape[1])\n",
    "x_test = x_test.T\n",
    "y_test = y_test.reshape(1, x_test.shape[1])\n",
    "x_val = x_val.T\n",
    "y_val = y_val.reshape(1, x_val.shape[1])"
   ]
  },
  {
   "cell_type": "code",
   "execution_count": 7,
   "metadata": {},
   "outputs": [
    {
     "name": "stdout",
     "output_type": "stream",
     "text": [
      "Shape of X_train :  (4, 210)\n",
      "Shape of Y_train :  (1, 210)\n",
      "Shape of X_test :  (4, 45)\n",
      "Shape of Y_test :  (1, 45)\n"
     ]
    }
   ],
   "source": [
    "print(\"Shape of X_train : \", x_train.shape)\n",
    "print(\"Shape of Y_train : \", y_train.shape)\n",
    "print(\"Shape of X_test : \", x_test.shape)\n",
    "print(\"Shape of Y_test : \", y_test.shape)"
   ]
  },
  {
   "cell_type": "code",
   "execution_count": 8,
   "metadata": {},
   "outputs": [
    {
     "name": "stdout",
     "output_type": "stream",
     "text": [
      "loss after  0 iteration is :  0.6931471805599453\n",
      "loss after  10000 iteration is :  0.08375720594259699\n",
      "loss after  20000 iteration is :  0.05561240225156176\n",
      "loss after  30000 iteration is :  0.04431304709101157\n",
      "loss after  40000 iteration is :  0.03792308183672042\n",
      "loss after  50000 iteration is :  0.03370574572209898\n",
      "loss after  60000 iteration is :  0.030663511828437063\n",
      "loss after  70000 iteration is :  0.028338082243238957\n",
      "loss after  80000 iteration is :  0.02648663598738998\n",
      "loss after  90000 iteration is :  0.02496733488337936\n"
     ]
    },
    {
     "data": {
      "image/png": "[encoded data removed]",
      "text/plain": [
       "<Figure size 432x288 with 1 Axes>"
      ]
     },
     "metadata": {
      "needs_background": "light"
     },
     "output_type": "display_data"
    }
   ],
   "source": [
    "# Running the model on data after tuning the hyperparameters on the test data \n",
    "model = LogRegression(lRate = 0.0015, no_of_iterations = 100000)\n",
    "W, B, loss_list = model.fit(x_train,y_train)\n"
   ]
  },
  {
   "cell_type": "markdown",
   "metadata": {},
   "source": [
    "### Predictions and Accuracy on Validation data for Blobs"
   ]
  },
  {
   "cell_type": "code",
   "execution_count": 9,
   "metadata": {},
   "outputs": [],
   "source": [
    "# Prediction on validation data after successful run on test data\n",
    "validation = model.predict(x_val,y_val,W,B)"
   ]
  },
  {
   "cell_type": "code",
   "execution_count": 10,
   "metadata": {},
   "outputs": [
    {
     "name": "stdout",
     "output_type": "stream",
     "text": [
      "Accuracy of validation set on blobs Dataset by single layer logistic regresison:  100.0\n"
     ]
    }
   ],
   "source": [
    "# Accuracy on blob dataset is 100% on validation dataset\n",
    "print(\"Accuracy of validation set on blobs Dataset by single layer logistic regresison: \",accuracy_score(y_val, validation) * 100)"
   ]
  },
  {
   "cell_type": "markdown",
   "metadata": {},
   "source": [
    "### Circles Dataset"
   ]
  },
  {
   "cell_type": "code",
   "execution_count": 11,
   "metadata": {},
   "outputs": [],
   "source": [
    "# Reading the Dataset with pandas - Blob datase\n",
    "df = pd.read_csv(\"E:\\College Wiki\\Deep Learning\\Assignment 1\\\\circles600.csv\")\n",
    "#Storing labels in Y\n",
    "Y = df['Class'].values\n",
    "#Storing features in X by deleting 'Class; column\n",
    "del df['Class']\n",
    "#Storing features\n",
    "X = df.values "
   ]
  },
  {
   "cell_type": "code",
   "execution_count": 12,
   "metadata": {},
   "outputs": [
    {
     "data": {
      "text/plain": [
       "<matplotlib.collections.PathCollection at 0x209344bcbb0>"
      ]
     },
     "execution_count": 12,
     "metadata": {},
     "output_type": "execute_result"
    },
    {
     "data": {
      "image/png": "[encoded data removed]",
      "text/plain": [
       "<Figure size 432x288 with 1 Axes>"
      ]
     },
     "metadata": {
      "needs_background": "light"
     },
     "output_type": "display_data"
    }
   ],
   "source": [
    "#Plotting scatterplot\n",
    "plt.scatter(X[:,0], X[:,1], c=Y) "
   ]
  },
  {
   "cell_type": "code",
   "execution_count": 13,
   "metadata": {},
   "outputs": [],
   "source": [
    "#Splitting the dataset in train - test - validations dataset as 70 - 15 -1 5 percent respectively\n",
    "x_train_circ, x_rem_circ, y_train_circ, y_rem_circ = train_test_split(X, Y, train_size=0.7)\n",
    "x_val_circ, x_test_circ, y_val_circ, y_test_circ = train_test_split(x_rem_circ, y_rem_circ, test_size=0.5)"
   ]
  },
  {
   "cell_type": "code",
   "execution_count": 14,
   "metadata": {},
   "outputs": [],
   "source": [
    "# Transforming np arrays into correct shape for further calculations\n",
    "x_train_circ = x_train_circ.T\n",
    "y_train_circ = y_train_circ.reshape(1, x_train_circ.shape[1])\n",
    "x_test_circ = x_test_circ.T\n",
    "y_test_circ = y_test_circ.reshape(1, x_test_circ.shape[1])\n",
    "x_val_circ = x_val_circ.T\n",
    "y_val_circ = y_val_circ.reshape(1, x_val_circ.shape[1])"
   ]
  },
  {
   "cell_type": "code",
   "execution_count": 15,
   "metadata": {},
   "outputs": [
    {
     "name": "stdout",
     "output_type": "stream",
     "text": [
      "Shape of X_train :  (2, 420)\n",
      "Shape of Y_train :  (1, 420)\n",
      "Shape of X_test :  (2, 90)\n",
      "Shape of Y_test :  (1, 90)\n"
     ]
    }
   ],
   "source": [
    "print(\"Shape of X_train : \", x_train_circ.shape)\n",
    "print(\"Shape of Y_train : \", y_train_circ.shape)\n",
    "print(\"Shape of X_test : \", x_test_circ.shape)\n",
    "print(\"Shape of Y_test : \", y_test_circ.shape)"
   ]
  },
  {
   "cell_type": "code",
   "execution_count": 16,
   "metadata": {},
   "outputs": [
    {
     "name": "stdout",
     "output_type": "stream",
     "text": [
      "loss after  0 iteration is :  0.6931471805599453\n",
      "loss after  10000 iteration is :  0.6916781646663365\n",
      "loss after  20000 iteration is :  0.6916781646663365\n",
      "loss after  30000 iteration is :  0.6916781646663365\n",
      "loss after  40000 iteration is :  0.6916781646663365\n",
      "loss after  50000 iteration is :  0.6916781646663365\n",
      "loss after  60000 iteration is :  0.6916781646663365\n",
      "loss after  70000 iteration is :  0.6916781646663365\n",
      "loss after  80000 iteration is :  0.6916781646663365\n",
      "loss after  90000 iteration is :  0.6916781646663365\n"
     ]
    },
    {
     "data": {
      "image/png": "[encoded data removed]",
      "text/plain": [
       "<Figure size 432x288 with 1 Axes>"
      ]
     },
     "metadata": {
      "needs_background": "light"
     },
     "output_type": "display_data"
    }
   ],
   "source": [
    "# Running the model on data after tuning the hyperparameters on the test data \n",
    "model2 = LogRegression(lRate = 0.15, no_of_iterations = 100000)\n",
    "W, B, loss_list = model2.fit(x_train_circ,y_train_circ)"
   ]
  },
  {
   "cell_type": "code",
   "execution_count": 17,
   "metadata": {},
   "outputs": [],
   "source": [
    "circles_test = model2.predict(x_test_circ, y_test_circ, W, B)"
   ]
  },
  {
   "cell_type": "code",
   "execution_count": 18,
   "metadata": {},
   "outputs": [],
   "source": [
    "# Accuracy on circle dataset\n",
    "accuracy = accuracy_score(y_val_circ.reshape(len(y_val_circ[0]),), circles_test.reshape(len(y_val_circ[0]),))"
   ]
  },
  {
   "cell_type": "code",
   "execution_count": 19,
   "metadata": {},
   "outputs": [
    {
     "name": "stdout",
     "output_type": "stream",
     "text": [
      "Accuracy on validation set of Circle Dataset with Single layer Logistic Regression:  57.77777777777777\n"
     ]
    }
   ],
   "source": [
    "print(\"Accuracy on validation set of Circle Dataset with Single layer Logistic Regression: \",accuracy*100)"
   ]
  },
  {
   "cell_type": "markdown",
   "metadata": {},
   "source": [
    "## Task 3: Shallow Neural Network for Logistic Regression"
   ]
  },
  {
   "cell_type": "markdown",
   "metadata": {},
   "source": [
    "### Brief Description of Algorithm :\n",
    "\n",
    "1. The shallow neural network implementation of logistic regression contains 3 layers precisely. The first layer is an input layer, same as mentioned above it has the number of nodes equal to the number of features of dataset. The second layer is a hidden layer and can have n number of nodes which is a hyperparameter to provide. Then there is an output layer consisting only one node.<br>\n",
    "2. The activation function used for both layers is a sigmoid function which is explained previously. <br>\n",
    "3. The key difference here is we will have an extra layer and hence the extra weights and biases to change when we backpropagate the error to tune model parameteres such as weight and bias. This was not the case in previous or single-layer perceptron implementation of Logistic Regression.<br> \n",
    "4. The expectation from this implementation is that, it will have greater accuracy even on non-linear dataset of circles600.<br>\n",
    "5. The development steps of my algorithm is as follows:<br>\n",
    "    a. We first assign the number of nodes to input layer (number of features), hidden layer and output layer(single node in this case.)<br>\n",
    "    b. Based on those, we call intialize function which will intiallize and create a vector for weights and biases. FOr example, W1 given below, will have values in marix of hidden layer * input layer, which is 4 * 4 for blobs dataset. The bias b1 will have the dimenstions of hidden Layer * 1 which is 4 * 1. We assign random values to whole matrix of both weight and bias and multiply it by 0.01 so that we get a really small number as initial values of weight and bias.<br>\n",
    "    Similar will be the case for W2 and b2 with the parameters mentioned in the code.<br>\n",
    "    We save the parameters in a dictionary for using and return it.<br>\n",
    "    c. We define a sigmoid function as out activation function for both the layers.<br>\n",
    "    d. Now, we propogate forward, giving the function feature subset and weights and bisases we stored. In forward prop function we locally save the values coming from the dictionary to calulate Aactivations from both the layers i.e. A1 and A2 respectively. We save A1, Z1, A2 and Z2 in another dictionary and return it.<br>\n",
    "    e. After propogating forwards, we will have the predicted values and we can calculate the difference, i.e. the loss to tune our weights and biases.<br>\n",
    "    f. We agian store weigts and output values from activation functions A1 and A2 locally, then we will calulate the difference at first layer with the partial derivatives of weights and biases as mentioned below in the code. We now have the difference in parameteres, which again, we will store in a dictionary and return it.<br>\n",
    "    g. As we have the difference, we will tune our weights and biases in change_weights function with the similar formula used in previous version of logistic regression explained above. We now have updated weights, which we will store in our dictionary which holds weights and biases to be propageted forward.<br>\n",
    "    h. We will call the function to calculate loss at every iteration, with the formulae written below.<br>\n",
    "    i. We will print the loss of the module every 100th iteration<br>\n",
    "    j. We will run whole dataset with number of iterations by implementing normal gradient descent.<br>\n",
    "    k. Finally, we have a predict function, to which we will pass test examples with weights and biases and predict it with the threshold of 0.5, similar to the cases above. It will return the predictions for every feature vector, with which we can calculate the accuracy.<br>\n",
    "\n",
    "### Observations :\n",
    "1. The shallow neural network approach gives out similar performance on blobs300 dataset which is 100% accuracy, which is as expected. Although, here, the learing rate is signficantly greated at 0.2 and number of iterations are very low at 5000 compared to previous single preceptron approach.<br>\n",
    "2. The main diffrence is in the accuracy on the circles600 dataset which has non-linear classes. As expected with shallow net, I am getting almost 100% accuracy on validation set with learning rate as 0.2 and number of iterations as 15000.<br>\n",
    "3. The learning rate is fine tuned after running the model multiple times on test data.<br>\n",
    "4. The number of nodes in hidden layers is 4 for both the modelm after checking with various different values.<br>\n",
    "5. The main observation i have seen is that the loss for circles dataset reduces significantly after 10000 iterations at 0.2 learning rate and 4 nodes. It reduces slowly if the learning rate is pretty low and algorithm converges prematurely.<br>\n",
    "\n",
    "\n",
    "### References for Task 3 :<br>\n",
    "1. Prof. Michael Maddens slides and videos<br>\n",
    "2. youtube.com/3Blue1Brow<br>\n",
    "3. https://medium.com/analytics-vidhya/logistic-regression-using-single-layer-perceptron-neural-network-slpnn<br>\n",
    "4. https://towardsdatascience.com/building-a-shallow-neural-network<br>\n",
    "5. https://www.datasciencecentral.com/logistic-regression-as-a-neural-network/#:~:text=To%20recap%2C%20Logistic%20regression%20is,a%20one%2Dlayer%20neural%20network.<br>\n",
    "6. https://www.youtube.com/watch?v=ncZ5iSZekVQ&ab_channel=SebastianRaschka<br>\n"
   ]
  },
  {
   "cell_type": "code",
   "execution_count": 23,
   "metadata": {},
   "outputs": [],
   "source": [
    "class shallowLogisticRegression():\n",
    "    # Function intialize the values of weights and biases\n",
    "    def initialize_wb(self, input_layer, hidden_layer, output_layer):\n",
    "        W1 = np.random.randn(hidden_layer, input_layer) * 0.01 # Intializing weights for 1st layer on neurons which is euqal to number of input\n",
    "        b1 = np.random.randn(hidden_layer,1)*0.01 # initializing bias for 1st layer, dimensions are 4 * 1\n",
    "        W2 = np.random.randn(output_layer, hidden_layer) * 0.01 # Intializing weights for 2nd layer on neurons which has dimensions 4*hidden layers\n",
    "        b2 = np.random.randn(output_layer,1)*0.01 # initializing bias for 2nd layer, dimensions are 1 * 1\n",
    "\n",
    "        #Saving all the parameters in a dictionary to return\n",
    "        params = {\"W1\":W1, \"b1\":b1, \"W2\":W2, \"b2\":b2}\n",
    "        return params\n",
    "    # Defining sigmoid function as activation function\n",
    "    def sigmoid(self, X):\n",
    "        return 1/(1 + np.exp(-X))\n",
    "    # Defining for ward propagation\n",
    "    def prop_forwards(self, X, params):\n",
    "        # Storing all the weights and biases coming from dictionary for local use\n",
    "        W1 = params[\"W1\"]\n",
    "        b1 = params[\"b1\"]\n",
    "        W2 = params[\"W2\"]\n",
    "        b2 = params[\"b2\"]\n",
    "\n",
    "        # Activation for 1st layer\n",
    "        Z1 = np.dot(W1, X) + b1\n",
    "        A1 = self.sigmoid(Z1)\n",
    "        # Activation for second layer\n",
    "        Z2 = np.dot(W2, A1) + b2\n",
    "        A2 = self.sigmoid(Z2)\n",
    "\n",
    "        #Saving all the values in a list for returning \n",
    "        gradient_params = {\"Z1\":Z1, \"A1\":A1, \"Z2\":Z2, \"A2\":A2}\n",
    "        return A2, gradient_params\n",
    "    # definging cost function to calculate negative log loss\n",
    "    def cost_function(self, A2, Y, params):\n",
    "        m = Y.shape[1] # Storing number of samples in Labels set\n",
    "        logloss =  np.sum(np.multiply(np.log(A2), Y)) + np.sum(np.multiply(np.log(1-A2), 1-Y)) # Element wise multiplication\n",
    "        loss = -np.sum(logloss) * (1/m)\n",
    "        loss = np.squeeze(loss) # Squeezing in order to get appropriate dimensions\n",
    "        return loss\n",
    "\n",
    "    # Defining back propogation for correcting weights \n",
    "    def prop_backwards(self, params, gradient_params, X, Y):\n",
    "        m = X.shape[1] # Storing the sample size of features\n",
    "        # Storing all the variables localy from the dicts passed in params \n",
    "        W1 = params[\"W1\"]\n",
    "        W2 = params[\"W2\"]\n",
    "        A1 = gradient_params[\"A1\"]\n",
    "        A2 = gradient_params[\"A2\"]\n",
    "\n",
    "        # Calculating the change in weights and bias as per the given formulae for layer 2\n",
    "        dZ2 = A2-Y\n",
    "        dW2 = 1/m * (np.dot(dZ2,A1.T))\n",
    "        db2 = (1/m) * np.sum(dZ2, axis=1, keepdims=True)\n",
    "\n",
    "        # Calculating the change in weights and bias as per the given formulae for layer 1\n",
    "        dZ1 = np.dot(W2.T, dZ2) * (A1 * (1-A1))     #np.dot(W2.T, dZ2) * (1 - np.power(A1,2))\n",
    "        dW1 = (1/m) * np.dot(dZ1, X.T)\n",
    "        db1 = (1/m) * np.sum(dZ1, axis=1, keepdims=True)\n",
    "\n",
    "        # Saving all the changes in a dictionary to propogate\n",
    "        gradients = {\"dW1\":dW1, \"db1\":db1, \"dW2\":dW2, \"db2\":db2}\n",
    "        return gradients \n",
    "\n",
    "    # Function to change the weights after backpropagation\n",
    "    def change_weights(self, params, gradients, learning_rate):\n",
    "        # Saving all the prameteres from passed dicts for local use and updation  \n",
    "        W1 = params[\"W1\"] \n",
    "        b1 = params[\"b1\"]\n",
    "        W2 = params[\"W2\"]\n",
    "        b2 = params[\"b2\"]\n",
    "\n",
    "        dW1 = gradients[\"dW1\"]\n",
    "        db1 = gradients[\"db1\"]\n",
    "        dW2 = gradients[\"dW2\"]\n",
    "        db2 = gradients[\"db2\"]\n",
    "\n",
    "        #Chaning the weights and learning rates with given formulae\n",
    "        W1 = W1-learning_rate * dW1\n",
    "        W2 = W2-learning_rate * dW2\n",
    "        b1 = b1-learning_rate * db1\n",
    "        b2 = b2-learning_rate * db2\n",
    "\n",
    "        # Storing the updated weights and biases in a list to again go for forward prop\n",
    "        params = {\"W1\": W1, \"b1\": b1, \"W2\": W2, \"b2\": b2}\n",
    "        return params\n",
    "\n",
    "    # Function to fit the training data \n",
    "    def fit(self, X, Y, hidden_layer, num_iterations, learning_rate, print_loss= True):\n",
    "        # Storing nodes of input and output layer i.e. Number of features in dataset and 1, respectively\n",
    "        input_layer = X.shape[0]\n",
    "        output_layer = Y.shape[0]\n",
    "        #Intialzing weights and biases with functions defined and storing it to pass it \n",
    "        params = self.initialize_wb(input_layer, hidden_layer, output_layer)\n",
    "        # Storing weights and biases locally to use\n",
    "        W1 = params[\"W1\"]\n",
    "        b1 = params[\"b1\"]\n",
    "        W2 = params[\"W2\"]\n",
    "        b2 = params[\"b2\"]\n",
    "        # Defining an empty list to store cost / loss per iteration\n",
    "        cost_list = []\n",
    "\n",
    "        # Looping whole dataset (Normal Gradient Descent) for given number of iteration, returning params i.e. weights and biases for prediction\n",
    "        for i in range(0, num_iterations):\n",
    "            # First propagating forward with intialised parameters and feature vector; storing the returned values i.e. A and Z\n",
    "            A2, gradient_params = self.prop_forwards(X, params)\n",
    "            # Now propogating backwards to get the loss and changeing the parameters, saving return values \n",
    "            grads = self.prop_backwards(params, gradient_params, X, Y)\n",
    "            # Changing the weights with partial differentials and saving the retrun parameters i.e. weights and biases\n",
    "            params = self.change_weights(params, grads, learning_rate)\n",
    "            # Calculating the cost/loss and appending it to the list\n",
    "            cost_list.append(self.cost_function(A2, Y, params))\n",
    "            loss = self.cost_function(A2, Y, params)\n",
    "            # Printing the loss every 100th iteration to observe\n",
    "            if print_loss and i % 100 == 0:\n",
    "                print (\"loss after iteration %i: %f\" %(i, loss))\n",
    "        \n",
    "        plt.plot(cost_list)\n",
    "        plt.ylabel(\"Loss\")\n",
    "        plt.xlabel(\"Iterations\")\n",
    "        plt.title(\"Loss per Interation\")\n",
    "        plt.show()\n",
    "        return params\n",
    "    # FUnction to predic class on test / val data, taking in new samples and tuned parameters; returning predictions\n",
    "    def predict(self, params, X):\n",
    "        # Storing results form forwards prop\n",
    "        A2, gradient_params = self.prop_forwards(X, params)\n",
    "        # Storing the sample size of dataset in m\n",
    "        m = X.shape[1]\n",
    "        # intiallising prediction array \n",
    "        prediction = np.zeros((1,m))\n",
    "        # Appying threshold on prediction of activation function(sigmoid) and storing it\n",
    "        for i in range(A2.shape[1]):\n",
    "            prediction[0,i] = 1 if A2[0,i]>0.5 else 0\n",
    "        return prediction\n"
   ]
  },
  {
   "cell_type": "code",
   "execution_count": 24,
   "metadata": {},
   "outputs": [],
   "source": [
    "# Defining model\n",
    "model3 = shallowLogisticRegression()\n",
    "model4 = shallowLogisticRegression()"
   ]
  },
  {
   "cell_type": "code",
   "execution_count": 25,
   "metadata": {},
   "outputs": [
    {
     "name": "stdout",
     "output_type": "stream",
     "text": [
      "loss after iteration 0: 0.693273\n",
      "loss after iteration 100: 0.693045\n",
      "loss after iteration 200: 0.693044\n",
      "loss after iteration 300: 0.693044\n",
      "loss after iteration 400: 0.693044\n",
      "loss after iteration 500: 0.693044\n",
      "loss after iteration 600: 0.693044\n",
      "loss after iteration 700: 0.693044\n",
      "loss after iteration 800: 0.693043\n",
      "loss after iteration 900: 0.693043\n",
      "loss after iteration 1000: 0.693043\n",
      "loss after iteration 1100: 0.693043\n",
      "loss after iteration 1200: 0.693042\n",
      "loss after iteration 1300: 0.693042\n",
      "loss after iteration 1400: 0.693041\n",
      "loss after iteration 1500: 0.693041\n",
      "loss after iteration 1600: 0.693041\n",
      "loss after iteration 1700: 0.693040\n",
      "loss after iteration 1800: 0.693039\n",
      "loss after iteration 1900: 0.693039\n",
      "loss after iteration 2000: 0.693038\n",
      "loss after iteration 2100: 0.693037\n",
      "loss after iteration 2200: 0.693036\n",
      "loss after iteration 2300: 0.693035\n",
      "loss after iteration 2400: 0.693034\n",
      "loss after iteration 2500: 0.693033\n",
      "loss after iteration 2600: 0.693031\n",
      "loss after iteration 2700: 0.693030\n",
      "loss after iteration 2800: 0.693028\n",
      "loss after iteration 2900: 0.693026\n",
      "loss after iteration 3000: 0.693024\n",
      "loss after iteration 3100: 0.693021\n",
      "loss after iteration 3200: 0.693019\n",
      "loss after iteration 3300: 0.693015\n",
      "loss after iteration 3400: 0.693012\n",
      "loss after iteration 3500: 0.693008\n",
      "loss after iteration 3600: 0.693004\n",
      "loss after iteration 3700: 0.692999\n",
      "loss after iteration 3800: 0.692993\n",
      "loss after iteration 3900: 0.692987\n",
      "loss after iteration 4000: 0.692980\n",
      "loss after iteration 4100: 0.692972\n",
      "loss after iteration 4200: 0.692964\n",
      "loss after iteration 4300: 0.692954\n",
      "loss after iteration 4400: 0.692944\n",
      "loss after iteration 4500: 0.692932\n",
      "loss after iteration 4600: 0.692918\n",
      "loss after iteration 4700: 0.692904\n",
      "loss after iteration 4800: 0.692888\n",
      "loss after iteration 4900: 0.692869\n",
      "loss after iteration 5000: 0.692850\n",
      "loss after iteration 5100: 0.692828\n",
      "loss after iteration 5200: 0.692803\n",
      "loss after iteration 5300: 0.692777\n",
      "loss after iteration 5400: 0.692748\n",
      "loss after iteration 5500: 0.692716\n",
      "loss after iteration 5600: 0.692681\n",
      "loss after iteration 5700: 0.692644\n",
      "loss after iteration 5800: 0.692603\n",
      "loss after iteration 5900: 0.692559\n",
      "loss after iteration 6000: 0.692511\n",
      "loss after iteration 6100: 0.692460\n",
      "loss after iteration 6200: 0.692406\n",
      "loss after iteration 6300: 0.692347\n",
      "loss after iteration 6400: 0.692284\n",
      "loss after iteration 6500: 0.692216\n",
      "loss after iteration 6600: 0.692144\n",
      "loss after iteration 6700: 0.692065\n",
      "loss after iteration 6800: 0.691980\n",
      "loss after iteration 6900: 0.691886\n",
      "loss after iteration 7000: 0.691781\n",
      "loss after iteration 7100: 0.691663\n",
      "loss after iteration 7200: 0.691527\n",
      "loss after iteration 7300: 0.691367\n",
      "loss after iteration 7400: 0.691175\n",
      "loss after iteration 7500: 0.690936\n",
      "loss after iteration 7600: 0.690633\n",
      "loss after iteration 7700: 0.690237\n",
      "loss after iteration 7800: 0.689705\n",
      "loss after iteration 7900: 0.688971\n",
      "loss after iteration 8000: 0.687935\n",
      "loss after iteration 8100: 0.686449\n",
      "loss after iteration 8200: 0.684301\n",
      "loss after iteration 8300: 0.681217\n",
      "loss after iteration 8400: 0.676898\n",
      "loss after iteration 8500: 0.671116\n",
      "loss after iteration 8600: 0.663852\n",
      "loss after iteration 8700: 0.655387\n",
      "loss after iteration 8800: 0.646251\n",
      "loss after iteration 8900: 0.637036\n",
      "loss after iteration 9000: 0.628204\n",
      "loss after iteration 9100: 0.619984\n",
      "loss after iteration 9200: 0.612380\n",
      "loss after iteration 9300: 0.605198\n",
      "loss after iteration 9400: 0.598076\n",
      "loss after iteration 9500: 0.590477\n",
      "loss after iteration 9600: 0.581703\n",
      "loss after iteration 9700: 0.570998\n",
      "loss after iteration 9800: 0.557803\n",
      "loss after iteration 9900: 0.542071\n",
      "loss after iteration 10000: 0.524352\n",
      "loss after iteration 10100: 0.505514\n",
      "loss after iteration 10200: 0.486410\n",
      "loss after iteration 10300: 0.467762\n",
      "loss after iteration 10400: 0.450160\n",
      "loss after iteration 10500: 0.434037\n",
      "loss after iteration 10600: 0.419633\n",
      "loss after iteration 10700: 0.407015\n",
      "loss after iteration 10800: 0.396123\n",
      "loss after iteration 10900: 0.386829\n",
      "loss after iteration 11000: 0.378972\n",
      "loss after iteration 11100: 0.372376\n",
      "loss after iteration 11200: 0.366859\n",
      "loss after iteration 11300: 0.362249\n",
      "loss after iteration 11400: 0.358382\n",
      "loss after iteration 11500: 0.355106\n",
      "loss after iteration 11600: 0.352280\n",
      "loss after iteration 11700: 0.349759\n",
      "loss after iteration 11800: 0.347387\n",
      "loss after iteration 11900: 0.344969\n",
      "loss after iteration 12000: 0.342241\n",
      "loss after iteration 12100: 0.338826\n",
      "loss after iteration 12200: 0.334191\n",
      "loss after iteration 12300: 0.327625\n",
      "loss after iteration 12400: 0.318322\n",
      "loss after iteration 12500: 0.305631\n",
      "loss after iteration 12600: 0.289457\n",
      "loss after iteration 12700: 0.270519\n",
      "loss after iteration 12800: 0.250116\n",
      "loss after iteration 12900: 0.229602\n",
      "loss after iteration 13000: 0.210007\n",
      "loss after iteration 13100: 0.191955\n",
      "loss after iteration 13200: 0.175727\n",
      "loss after iteration 13300: 0.161361\n",
      "loss after iteration 13400: 0.148751\n",
      "loss after iteration 13500: 0.137718\n",
      "loss after iteration 13600: 0.128065\n",
      "loss after iteration 13700: 0.119599\n",
      "loss after iteration 13800: 0.112143\n",
      "loss after iteration 13900: 0.105546\n",
      "loss after iteration 14000: 0.099680\n",
      "loss after iteration 14100: 0.094437\n",
      "loss after iteration 14200: 0.089727\n",
      "loss after iteration 14300: 0.085474\n",
      "loss after iteration 14400: 0.081617\n",
      "loss after iteration 14500: 0.078105\n",
      "loss after iteration 14600: 0.074892\n",
      "loss after iteration 14700: 0.071944\n",
      "loss after iteration 14800: 0.069229\n",
      "loss after iteration 14900: 0.066720\n",
      "loss after iteration 15000: 0.064394\n",
      "loss after iteration 15100: 0.062234\n",
      "loss after iteration 15200: 0.060220\n",
      "loss after iteration 15300: 0.058340\n",
      "loss after iteration 15400: 0.056580\n",
      "loss after iteration 15500: 0.054929\n",
      "loss after iteration 15600: 0.053377\n",
      "loss after iteration 15700: 0.051916\n",
      "loss after iteration 15800: 0.050537\n",
      "loss after iteration 15900: 0.049235\n",
      "loss after iteration 16000: 0.048002\n",
      "loss after iteration 16100: 0.046834\n",
      "loss after iteration 16200: 0.045725\n",
      "loss after iteration 16300: 0.044671\n",
      "loss after iteration 16400: 0.043668\n",
      "loss after iteration 16500: 0.042712\n",
      "loss after iteration 16600: 0.041800\n",
      "loss after iteration 16700: 0.040929\n",
      "loss after iteration 16800: 0.040097\n",
      "loss after iteration 16900: 0.039301\n",
      "loss after iteration 17000: 0.038538\n",
      "loss after iteration 17100: 0.037806\n",
      "loss after iteration 17200: 0.037104\n",
      "loss after iteration 17300: 0.036430\n",
      "loss after iteration 17400: 0.035782\n",
      "loss after iteration 17500: 0.035158\n",
      "loss after iteration 17600: 0.034558\n",
      "loss after iteration 17700: 0.033980\n",
      "loss after iteration 17800: 0.033422\n",
      "loss after iteration 17900: 0.032884\n",
      "loss after iteration 18000: 0.032365\n",
      "loss after iteration 18100: 0.031863\n",
      "loss after iteration 18200: 0.031378\n",
      "loss after iteration 18300: 0.030909\n",
      "loss after iteration 18400: 0.030456\n",
      "loss after iteration 18500: 0.030016\n",
      "loss after iteration 18600: 0.029591\n",
      "loss after iteration 18700: 0.029178\n",
      "loss after iteration 18800: 0.028778\n",
      "loss after iteration 18900: 0.028390\n",
      "loss after iteration 19000: 0.028013\n",
      "loss after iteration 19100: 0.027647\n",
      "loss after iteration 19200: 0.027291\n",
      "loss after iteration 19300: 0.026946\n",
      "loss after iteration 19400: 0.026610\n",
      "loss after iteration 19500: 0.026283\n",
      "loss after iteration 19600: 0.025965\n",
      "loss after iteration 19700: 0.025655\n",
      "loss after iteration 19800: 0.025353\n",
      "loss after iteration 19900: 0.025060\n"
     ]
    },
    {
     "data": {
      "image/png": "[encoded data removed]",
      "text/plain": [
       "<Figure size 432x288 with 1 Axes>"
      ]
     },
     "metadata": {
      "needs_background": "light"
     },
     "output_type": "display_data"
    }
   ],
   "source": [
    "# Fitting prameters / training of circle dataset\n",
    "fit_params = model3.fit(x_train_circ, y_train_circ, num_iterations=20000, learning_rate=0.2, hidden_layer=4)"
   ]
  },
  {
   "cell_type": "code",
   "execution_count": 26,
   "metadata": {},
   "outputs": [
    {
     "name": "stdout",
     "output_type": "stream",
     "text": [
      "loss after iteration 0: 0.692883\n",
      "loss after iteration 100: 0.608590\n",
      "loss after iteration 200: 0.174889\n",
      "loss after iteration 300: 0.079937\n",
      "loss after iteration 400: 0.051989\n",
      "loss after iteration 500: 0.039168\n",
      "loss after iteration 600: 0.031862\n",
      "loss after iteration 700: 0.027141\n",
      "loss after iteration 800: 0.023829\n",
      "loss after iteration 900: 0.021368\n",
      "loss after iteration 1000: 0.019459\n",
      "loss after iteration 1100: 0.017926\n",
      "loss after iteration 1200: 0.016664\n",
      "loss after iteration 1300: 0.015601\n",
      "loss after iteration 1400: 0.014690\n",
      "loss after iteration 1500: 0.013897\n",
      "loss after iteration 1600: 0.013198\n",
      "loss after iteration 1700: 0.012576\n",
      "loss after iteration 1800: 0.012017\n",
      "loss after iteration 1900: 0.011509\n",
      "loss after iteration 2000: 0.011047\n",
      "loss after iteration 2100: 0.010622\n",
      "loss after iteration 2200: 0.010230\n",
      "loss after iteration 2300: 0.009867\n",
      "loss after iteration 2400: 0.009528\n",
      "loss after iteration 2500: 0.009212\n",
      "loss after iteration 2600: 0.008916\n",
      "loss after iteration 2700: 0.008638\n",
      "loss after iteration 2800: 0.008376\n",
      "loss after iteration 2900: 0.008128\n",
      "loss after iteration 3000: 0.007894\n",
      "loss after iteration 3100: 0.007672\n",
      "loss after iteration 3200: 0.007461\n",
      "loss after iteration 3300: 0.007261\n",
      "loss after iteration 3400: 0.007070\n",
      "loss after iteration 3500: 0.006888\n",
      "loss after iteration 3600: 0.006714\n",
      "loss after iteration 3700: 0.006548\n",
      "loss after iteration 3800: 0.006389\n",
      "loss after iteration 3900: 0.006237\n",
      "loss after iteration 4000: 0.006091\n",
      "loss after iteration 4100: 0.005951\n",
      "loss after iteration 4200: 0.005817\n",
      "loss after iteration 4300: 0.005688\n",
      "loss after iteration 4400: 0.005564\n",
      "loss after iteration 4500: 0.005445\n",
      "loss after iteration 4600: 0.005330\n",
      "loss after iteration 4700: 0.005219\n",
      "loss after iteration 4800: 0.005113\n",
      "loss after iteration 4900: 0.005010\n"
     ]
    },
    {
     "data": {
      "image/png": "[encoded data removed]",
      "text/plain": [
       "<Figure size 432x288 with 1 Axes>"
      ]
     },
     "metadata": {
      "needs_background": "light"
     },
     "output_type": "display_data"
    }
   ],
   "source": [
    "# Fitting prameters / training of blob dataset\n",
    "fit_params1 = model4.fit(x_train, y_train, num_iterations=5000, learning_rate=0.2, hidden_layer=4)"
   ]
  },
  {
   "cell_type": "code",
   "execution_count": 27,
   "metadata": {},
   "outputs": [],
   "source": [
    "# Predicting on test / val \n",
    "preds = model3.predict(fit_params, x_val_circ)\n",
    "preds_blobs = model4.predict(fit_params1, x_val)\n",
    "preds_circles = model3.predict(fit_params, x_test_circ)"
   ]
  },
  {
   "cell_type": "code",
   "execution_count": 28,
   "metadata": {},
   "outputs": [],
   "source": [
    "accuracy = accuracy_score(y_val_circ.reshape(len(y_val_circ[0]),), preds.reshape(len(y_val_circ[0]),))\n",
    "accuracy1 = accuracy_score(y_val.reshape(len(y_val[0]),), preds_blobs.reshape(len(y_val[0]),))"
   ]
  },
  {
   "cell_type": "code",
   "execution_count": 29,
   "metadata": {},
   "outputs": [],
   "source": [
    "accuracy2 = accuracy_score(y_test_circ.reshape(len(y_test_circ[0]),), preds_circles.reshape(len(y_test_circ[0]),))"
   ]
  },
  {
   "cell_type": "code",
   "execution_count": 30,
   "metadata": {},
   "outputs": [
    {
     "name": "stdout",
     "output_type": "stream",
     "text": [
      "Accuracy of shallow neural net on validation set of circles dataset 98.88888888888889\n",
      "Accuracy of shallow neural net on validation set of blobs dataset 100.0\n",
      "Accuracy of shallow neural net on test set of circles dataset 100.0\n"
     ]
    }
   ],
   "source": [
    "print(\"Accuracy of shallow neural net on validation set of circles dataset\", accuracy*100)\n",
    "print(\"Accuracy of shallow neural net on validation set of blobs dataset\", accuracy1*100)\n",
    "print(\"Accuracy of shallow neural net on test set of circles dataset\", accuracy2*100)"
   ]
  },
  {
   "cell_type": "markdown",
   "metadata": {},
   "source": [
    "## Task 4 : Logistic Regression with Shallow NN for classification of Images --- (Airplane and Horse)"
   ]
  },
  {
   "cell_type": "markdown",
   "metadata": {},
   "source": [
    "### Please note - \n",
    "1. I have taken the data loading code completely which was provided with assignment by Prof. Michael Madden, all the comments from that code is removed after understanding.\n",
    "2. Results and observations for this task is given at the end of the task, as I think it is more suitable."
   ]
  },
  {
   "cell_type": "code",
   "execution_count": 31,
   "metadata": {},
   "outputs": [],
   "source": [
    "def unpickle(file):\n",
    "    import pickle\n",
    "    with open(file, 'rb') as fo:\n",
    "        dict = pickle.load(fo, encoding='bytes')\n",
    "    return dict\n"
   ]
  },
  {
   "cell_type": "code",
   "execution_count": 32,
   "metadata": {},
   "outputs": [],
   "source": [
    "def loadbatch(batchname):\n",
    "    folder = 'E:\\College Wiki\\Deep Learning\\Assignment 1\\\\cifar-10-batches-py'\n",
    "    batch = unpickle(folder+\"/\"+batchname)\n",
    "    return batch"
   ]
  },
  {
   "cell_type": "code",
   "execution_count": 33,
   "metadata": {},
   "outputs": [],
   "source": [
    "def loadlabelnames():\n",
    "    folder = 'cifar-10-batches-py'\n",
    "    meta = unpickle(folder+\"/\"+'batches.meta')\n",
    "    return meta[b'label_names']"
   ]
  },
  {
   "cell_type": "code",
   "execution_count": 34,
   "metadata": {},
   "outputs": [],
   "source": [
    "import matplotlib.pyplot as plt\n",
    "\n",
    "def visualise(data, index):\n",
    "    picture = data[index]\n",
    "    picture.shape = (3,32,32) \n",
    "    picture = picture.transpose([1, 2, 0])\n",
    "    plt.imshow(picture)\n",
    "    plt.show()"
   ]
  },
  {
   "cell_type": "code",
   "execution_count": 35,
   "metadata": {},
   "outputs": [
    {
     "name": "stdout",
     "output_type": "stream",
     "text": [
      "Number of items in the batch is 4\n",
      "All keys in the batch: dict_keys([b'batch_label', b'labels', b'data', b'filenames'])\n"
     ]
    }
   ],
   "source": [
    "batch1 = loadbatch('data_batch_1') # Loading the batch 1 of images \n",
    "print(\"Number of items in the batch is\", len(batch1))\n",
    "\n",
    "# Display all keys, so we can see the ones we want\n",
    "print('All keys in the batch:', batch1.keys())"
   ]
  },
  {
   "cell_type": "code",
   "execution_count": 36,
   "metadata": {},
   "outputs": [
    {
     "name": "stdout",
     "output_type": "stream",
     "text": [
      "size of data in this batch: 10000 , size of labels: 10000\n",
      "<class 'numpy.ndarray'>\n",
      "(10000, 3072)\n"
     ]
    }
   ],
   "source": [
    "data = batch1[b'data'] #extracting data from the batch\n",
    "labels = batch1[b'labels'] #extracting labels from the batch\n",
    "print (\"size of data in this batch:\", len(data), \", size of labels:\", len(labels))\n",
    "print (type(data))\n",
    "print(data.shape)\n",
    "\n",
    "names = loadlabelnames()"
   ]
  },
  {
   "cell_type": "code",
   "execution_count": 37,
   "metadata": {},
   "outputs": [],
   "source": [
    "r_channel = data[:,:1024] #Taking all the Red value of the data\n",
    "labels_img = np.array([labels]) # Storing the labels in an np array to use it as feature vector\n",
    "labels_img = labels_img.T # Transposing the labels so that we can concatenate the data \n",
    "\n",
    "#Conccatenating the data from labesl and red channel\n",
    "data = np.append(r_channel, labels_img, axis = 1) \n",
    "\n",
    "#Filtering the data of given classes (Airplane and Horse)\n",
    "airplanes = data[data[:,-1] == 0]\n",
    "horses = data[data[:,-1] == 7]\n",
    "horses[:,[-1]] = 1 # COnverting the label '7' to '1' to work with logistic regression\n",
    "\n",
    "dataset_img = np.concatenate((airplanes, horses), axis=0) #Concatenating both the classes together to create whole dataset \n"
   ]
  },
  {
   "cell_type": "code",
   "execution_count": 38,
   "metadata": {},
   "outputs": [
    {
     "data": {
      "text/plain": [
       "array([[202, 202, 204, ..., 239, 240,   0],\n",
       "       [126, 122, 126, ..., 126, 121,   0],\n",
       "       [251, 247, 247, ..., 112, 105,   0],\n",
       "       ...,\n",
       "       [247, 241, 247, ..., 166, 172,   1],\n",
       "       [121, 126, 142, ..., 138, 133,   1],\n",
       "       [108, 110, 115, ..., 226, 227,   1]])"
      ]
     },
     "execution_count": 38,
     "metadata": {},
     "output_type": "execute_result"
    }
   ],
   "source": [
    "dataset_img"
   ]
  },
  {
   "cell_type": "code",
   "execution_count": 39,
   "metadata": {},
   "outputs": [],
   "source": [
    "Y = dataset_img[:,[-1]] # Storing labels in Y\n",
    "X = np.delete(dataset_img, -1, 1) # Storing features in X"
   ]
  },
  {
   "cell_type": "code",
   "execution_count": 40,
   "metadata": {},
   "outputs": [],
   "source": [
    "#Splitting the dataset in train - test - validations dataset as 70 - 15 -1 5 percent respectively\n",
    "x_train, x_rem, y_train, y_rem = train_test_split(X, Y, train_size=0.7)\n",
    "x_val, x_test, y_val, y_test = train_test_split(x_rem, y_rem, test_size=0.5)"
   ]
  },
  {
   "cell_type": "code",
   "execution_count": 41,
   "metadata": {},
   "outputs": [],
   "source": [
    "#Reshaping the datasets with transpose for matrix multiplications during updating weights and activation functions \n",
    "x_train = x_train.T\n",
    "y_train = y_train.reshape(1, x_train.shape[1])\n",
    "x_test = x_test.T\n",
    "y_test = y_test.reshape(1, x_test.shape[1])\n",
    "x_val = x_val.T\n",
    "y_val = y_val.reshape(1, x_val.shape[1])"
   ]
  },
  {
   "cell_type": "code",
   "execution_count": 42,
   "metadata": {},
   "outputs": [
    {
     "name": "stdout",
     "output_type": "stream",
     "text": [
      "Shape of X_train :  (1024, 1404)\n",
      "Shape of Y_train :  (1, 1404)\n",
      "Shape of X_test :  (1024, 301)\n",
      "Shape of Y_test :  (1, 301)\n"
     ]
    }
   ],
   "source": [
    "print(\"Shape of X_train : \", x_train.shape)\n",
    "print(\"Shape of Y_train : \", y_train.shape)\n",
    "print(\"Shape of X_test : \", x_test.shape)\n",
    "print(\"Shape of Y_test : \", y_test.shape)"
   ]
  },
  {
   "cell_type": "code",
   "execution_count": 47,
   "metadata": {},
   "outputs": [
    {
     "name": "stdout",
     "output_type": "stream",
     "text": [
      "loss after iteration 0: 0.693188\n",
      "loss after iteration 100: 0.683742\n"
     ]
    },
    {
     "name": "stderr",
     "output_type": "stream",
     "text": [
      "<ipython-input-23-2f502830c066>:14: RuntimeWarning: overflow encountered in exp\n",
      "  return 1/(1 + np.exp(-X))\n"
     ]
    },
    {
     "name": "stdout",
     "output_type": "stream",
     "text": [
      "loss after iteration 200: 0.680539\n",
      "loss after iteration 300: 0.683483\n",
      "loss after iteration 400: 0.682039\n",
      "loss after iteration 500: 0.659028\n",
      "loss after iteration 600: 0.659498\n",
      "loss after iteration 700: 0.656210\n",
      "loss after iteration 800: 0.650647\n",
      "loss after iteration 900: 0.668799\n",
      "loss after iteration 1000: 0.643472\n"
     ]
    },
    {
     "data": {
      "image/png": "[encoded data removed]",
      "text/plain": [
       "<Figure size 432x288 with 1 Axes>"
      ]
     },
     "metadata": {
      "needs_background": "light"
     },
     "output_type": "display_data"
    }
   ],
   "source": [
    "modelimg = shallowLogisticRegression()\n",
    "# Fitting prameters / training of circle dataset\n",
    "fit_params_img = modelimg.fit(x_train, y_train, num_iterations=1100, learning_rate=0.1, hidden_layer=8)"
   ]
  },
  {
   "cell_type": "code",
   "execution_count": 48,
   "metadata": {},
   "outputs": [
    {
     "name": "stderr",
     "output_type": "stream",
     "text": [
      "<ipython-input-23-2f502830c066>:14: RuntimeWarning: overflow encountered in exp\n",
      "  return 1/(1 + np.exp(-X))\n"
     ]
    }
   ],
   "source": [
    "preds_img = modelimg.predict(fit_params_img, x_test)\n",
    "accuracy = accuracy_score(y_test.reshape(len(y_test[0]),), preds_img.reshape(len(y_test[0]),))"
   ]
  },
  {
   "cell_type": "code",
   "execution_count": 56,
   "metadata": {},
   "outputs": [
    {
     "name": "stdout",
     "output_type": "stream",
     "text": [
      "Accuracy of LR with Shalow NN on test data of given images 59.47\n"
     ]
    }
   ],
   "source": [
    "print(\"Accuracy of LR with Shalow NN on test data of given images\", round((accuracy*100),2))"
   ]
  },
  {
   "cell_type": "code",
   "execution_count": 50,
   "metadata": {},
   "outputs": [
    {
     "name": "stderr",
     "output_type": "stream",
     "text": [
      "<ipython-input-23-2f502830c066>:14: RuntimeWarning: overflow encountered in exp\n",
      "  return 1/(1 + np.exp(-X))\n"
     ]
    }
   ],
   "source": [
    "preds_img = modelimg.predict(fit_params_img, x_val)\n",
    "accuracy = accuracy_score(y_val.reshape(len(y_val[0]),), preds_img.reshape(len(y_val[0]),))"
   ]
  },
  {
   "cell_type": "code",
   "execution_count": 57,
   "metadata": {},
   "outputs": [
    {
     "name": "stdout",
     "output_type": "stream",
     "text": [
      "Accuracy of LR with Shalow NN on validation data of given images 59.47\n"
     ]
    }
   ],
   "source": [
    "print(\"Accuracy of LR with Shalow NN on validation data of given images\",round((accuracy*100),2))"
   ]
  },
  {
   "cell_type": "markdown",
   "metadata": {},
   "source": [
    "### Results and Observations :\n",
    "1. The dataset here is run with 8 hidden layers, double the number of previous with way less number of iterations at 1100 with learning rate of 0.1.\n",
    "2. The accuracy is on validation set is at 59.47% which not the best as expected by shallow net on images but slightly higher than random distribution.\n",
    "3. The hyperparameters are tuned after multiple runs on test data.\n",
    "4. It was observed that with higher number of iterations the loss was increasing and causing less accuracy."
   ]
  },
  {
   "cell_type": "markdown",
   "metadata": {},
   "source": [
    "## Task 5 : Improvements in the Neural Network"
   ]
  },
  {
   "cell_type": "markdown",
   "metadata": {},
   "source": [
    "### Development of CNN\n",
    "1. As we want to increase accuracy on images best way is to use CNN\n",
    "2. We can develop a convolutional neural network by adding a convultional layer and a pooling layer which may give us better accuracy.\n",
    "3. Tried to develope the same, but couldn't do it in time. Developing feature maps from scratch is difficult."
   ]
  },
  {
   "cell_type": "markdown",
   "metadata": {},
   "source": []
  }
 ],
 "metadata": {
  "interpreter": {
   "hash": "95f3a7483f3caefdf6463f60585b6896f24d8d57f47958913ff17dd7ed8d6eba"
  },
  "kernelspec": {
   "display_name": "Python 3.8.8 64-bit ('base': conda)",
   "name": "python3"
  },
  "language_info": {
   "codemirror_mode": {
    "name": "ipython",
    "version": 3
   },
   "file_extension": ".py",
   "mimetype": "text/x-python",
   "name": "python",
   "nbconvert_exporter": "python",
   "pygments_lexer": "ipython3",
   "version": "3.8.8"
  },
  "orig_nbformat": 4
 },
 "nbformat": 4,
 "nbformat_minor": 2
}
